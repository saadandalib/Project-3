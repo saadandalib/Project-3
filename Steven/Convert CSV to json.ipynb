{
 "cells": [
  {
   "cell_type": "code",
   "execution_count": 2,
   "id": "7b5fa35f",
   "metadata": {},
   "outputs": [],
   "source": [
    "import pandas as pd"
   ]
  },
  {
   "cell_type": "code",
   "execution_count": 3,
   "id": "af4a2183",
   "metadata": {},
   "outputs": [],
   "source": [
    "restaurants_csv = pd.read_csv(\"../Resources/az_yelp_business.csv\")"
   ]
  },
  {
   "cell_type": "code",
   "execution_count": 6,
   "id": "d4aaeb03",
   "metadata": {},
   "outputs": [],
   "source": [
    "# pd.set_option('display.max_rows', None)\n",
    "pd.reset_option('display.max_rows')"
   ]
  },
  {
   "cell_type": "code",
   "execution_count": 8,
   "id": "94c22800",
   "metadata": {},
   "outputs": [
    {
     "data": {
      "text/html": [
       "<div>\n",
       "<style scoped>\n",
       "    .dataframe tbody tr th:only-of-type {\n",
       "        vertical-align: middle;\n",
       "    }\n",
       "\n",
       "    .dataframe tbody tr th {\n",
       "        vertical-align: top;\n",
       "    }\n",
       "\n",
       "    .dataframe thead th {\n",
       "        text-align: right;\n",
       "    }\n",
       "</style>\n",
       "<table border=\"1\" class=\"dataframe\">\n",
       "  <thead>\n",
       "    <tr style=\"text-align: right;\">\n",
       "      <th></th>\n",
       "      <th>name</th>\n",
       "      <th>address</th>\n",
       "      <th>city</th>\n",
       "      <th>state</th>\n",
       "      <th>postal_code</th>\n",
       "      <th>latitude</th>\n",
       "      <th>longitude</th>\n",
       "      <th>stars</th>\n",
       "      <th>review_count</th>\n",
       "      <th>categories</th>\n",
       "    </tr>\n",
       "  </thead>\n",
       "  <tbody>\n",
       "    <tr>\n",
       "      <th>0</th>\n",
       "      <td>\"Dental by Design\"</td>\n",
       "      <td>\"4855 E Warner Rd, Ste B9\"</td>\n",
       "      <td>Ahwatukee</td>\n",
       "      <td>AZ</td>\n",
       "      <td>85044</td>\n",
       "      <td>33.330690</td>\n",
       "      <td>-111.978599</td>\n",
       "      <td>4.0</td>\n",
       "      <td>22</td>\n",
       "      <td>Dentists;General Dentistry;Health &amp; Medical;Or...</td>\n",
       "    </tr>\n",
       "    <tr>\n",
       "      <th>1</th>\n",
       "      <td>\"Western Motor Vehicle\"</td>\n",
       "      <td>\"6025 N 27th Ave, Ste 1\"</td>\n",
       "      <td>Phoenix</td>\n",
       "      <td>AZ</td>\n",
       "      <td>85017</td>\n",
       "      <td>33.524903</td>\n",
       "      <td>-112.115310</td>\n",
       "      <td>1.5</td>\n",
       "      <td>18</td>\n",
       "      <td>Departments of Motor Vehicles;Public Services ...</td>\n",
       "    </tr>\n",
       "    <tr>\n",
       "      <th>2</th>\n",
       "      <td>\"Sports Authority\"</td>\n",
       "      <td>\"5000 Arizona Mills Cr, Ste 435\"</td>\n",
       "      <td>Tempe</td>\n",
       "      <td>AZ</td>\n",
       "      <td>85282</td>\n",
       "      <td>33.383147</td>\n",
       "      <td>-111.964725</td>\n",
       "      <td>3.0</td>\n",
       "      <td>9</td>\n",
       "      <td>Sporting Goods;Shopping</td>\n",
       "    </tr>\n",
       "    <tr>\n",
       "      <th>3</th>\n",
       "      <td>\"CubeSmart Self Storage\"</td>\n",
       "      <td>\"2414 South Gilbert Road\"</td>\n",
       "      <td>Chandler</td>\n",
       "      <td>AZ</td>\n",
       "      <td>85286</td>\n",
       "      <td>33.271720</td>\n",
       "      <td>-111.791257</td>\n",
       "      <td>5.0</td>\n",
       "      <td>23</td>\n",
       "      <td>Local Services;Self Storage</td>\n",
       "    </tr>\n",
       "    <tr>\n",
       "      <th>4</th>\n",
       "      <td>\"T &amp; Y Nail Spa\"</td>\n",
       "      <td>\"8411 W Thunderbird Rd, Unit 101\"</td>\n",
       "      <td>Peoria</td>\n",
       "      <td>AZ</td>\n",
       "      <td>85381</td>\n",
       "      <td>33.608654</td>\n",
       "      <td>-112.240012</td>\n",
       "      <td>3.0</td>\n",
       "      <td>20</td>\n",
       "      <td>Beauty &amp; Spas;Nail Salons</td>\n",
       "    </tr>\n",
       "  </tbody>\n",
       "</table>\n",
       "</div>"
      ],
      "text/plain": [
       "                       name                            address       city  \\\n",
       "0        \"Dental by Design\"         \"4855 E Warner Rd, Ste B9\"  Ahwatukee   \n",
       "1   \"Western Motor Vehicle\"           \"6025 N 27th Ave, Ste 1\"    Phoenix   \n",
       "2        \"Sports Authority\"   \"5000 Arizona Mills Cr, Ste 435\"      Tempe   \n",
       "3  \"CubeSmart Self Storage\"          \"2414 South Gilbert Road\"   Chandler   \n",
       "4          \"T & Y Nail Spa\"  \"8411 W Thunderbird Rd, Unit 101\"     Peoria   \n",
       "\n",
       "  state  postal_code   latitude   longitude  stars  review_count  \\\n",
       "0    AZ        85044  33.330690 -111.978599    4.0            22   \n",
       "1    AZ        85017  33.524903 -112.115310    1.5            18   \n",
       "2    AZ        85282  33.383147 -111.964725    3.0             9   \n",
       "3    AZ        85286  33.271720 -111.791257    5.0            23   \n",
       "4    AZ        85381  33.608654 -112.240012    3.0            20   \n",
       "\n",
       "                                          categories  \n",
       "0  Dentists;General Dentistry;Health & Medical;Or...  \n",
       "1  Departments of Motor Vehicles;Public Services ...  \n",
       "2                            Sporting Goods;Shopping  \n",
       "3                        Local Services;Self Storage  \n",
       "4                          Beauty & Spas;Nail Salons  "
      ]
     },
     "execution_count": 8,
     "metadata": {},
     "output_type": "execute_result"
    }
   ],
   "source": [
    "restaurants_csv.head()"
   ]
  },
  {
   "cell_type": "code",
   "execution_count": 13,
   "id": "935773d2",
   "metadata": {},
   "outputs": [],
   "source": [
    "restaurants_csv = restaurants_csv.loc[restaurants_csv['categories'].str.lower().str.contains(\"restaurants\")]"
   ]
  },
  {
   "cell_type": "code",
   "execution_count": null,
   "id": "64e38e7f",
   "metadata": {},
   "outputs": [],
   "source": [
    "restaurants_csv.to_csv()"
   ]
  }
 ],
 "metadata": {
  "kernelspec": {
   "display_name": "Python 3",
   "language": "python",
   "name": "python3"
  },
  "language_info": {
   "codemirror_mode": {
    "name": "ipython",
    "version": 3
   },
   "file_extension": ".py",
   "mimetype": "text/x-python",
   "name": "python",
   "nbconvert_exporter": "python",
   "pygments_lexer": "ipython3",
   "version": "3.8.8"
  }
 },
 "nbformat": 4,
 "nbformat_minor": 5
}
